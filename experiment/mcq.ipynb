{
 "cells": [
  {
   "cell_type": "code",
   "execution_count": 25,
   "metadata": {},
   "outputs": [],
   "source": [
    "import os\n",
    "from dotenv import load_dotenv"
   ]
  },
  {
   "cell_type": "code",
   "execution_count": 26,
   "metadata": {},
   "outputs": [],
   "source": [
    "import json\n",
    "import pandas as pd\n",
    "import traceback"
   ]
  },
  {
   "cell_type": "code",
   "execution_count": 35,
   "metadata": {},
   "outputs": [],
   "source": [
    "from langchain.chat_models import ChatOpenAI"
   ]
  },
  {
   "cell_type": "code",
   "execution_count": 36,
   "metadata": {},
   "outputs": [
    {
     "data": {
      "text/plain": [
       "True"
      ]
     },
     "execution_count": 36,
     "metadata": {},
     "output_type": "execute_result"
    }
   ],
   "source": [
    "load_dotenv()"
   ]
  },
  {
   "cell_type": "code",
   "execution_count": 37,
   "metadata": {},
   "outputs": [],
   "source": [
    "KEY = os.getenv(\"OPENAI_API_KEY\")"
   ]
  },
  {
   "cell_type": "code",
   "execution_count": 53,
   "metadata": {},
   "outputs": [],
   "source": [
    "llm=ChatOpenAI(openai_api_key = KEY, model_name = \"gpt-3.5-turbo\",temperature=0.5)"
   ]
  },
  {
   "cell_type": "code",
   "execution_count": 54,
   "metadata": {},
   "outputs": [],
   "source": [
    "from langchain.llms import OpenAI\n",
    "from langchain.chat_models import ChatOpenAI\n",
    "from langchain.prompts import PromptTemplate\n",
    "from langchain.chains import LLMChain\n",
    "from langchain.chains import SequentialChain\n",
    "from langchain.callbacks import get_openai_callback #IMPORTANT\n",
    "import PyPDF2"
   ]
  },
  {
   "cell_type": "code",
   "execution_count": 57,
   "metadata": {},
   "outputs": [],
   "source": [
    "RESPONSE_JSON={\n",
    "   \"songs\": [\n",
    "        {\n",
    "            \"title\": \"Song Title 1\",\n",
    "            \"movie\": \"Movie Name 1\",\n",
    "            \"year\": 2000\n",
    "        },\n",
    "        {\n",
    "            \"title\": \"Song Title 2\",\n",
    "            \"movie\": \"Movie Name 2\",\n",
    "            \"year\": 2001\n",
    "        }\n",
    "    \n",
    "   ]\n",
    "}"
   ]
  },
  {
   "cell_type": "code",
   "execution_count": 58,
   "metadata": {},
   "outputs": [],
   "source": [
    "TEMPLATE=\"\"\"\n",
    "You are an expert in musical knowledge. Given the above text, it is your job to\\\n",
    "create a list of {number} songs for {mood} mood from bollywood since the year 2000.\n",
    "Make sure that the songs are not repeated and check all the songs to be conforming the mood.\n",
    "Make sure to format your response like RESPONSE_JSON below and use it as a guide.\n",
    "Ensure to add {number} of songs\n",
    "###RESPONSE_JSON\n",
    "{response_json}\n",
    "\n",
    "\"\"\""
   ]
  },
  {
   "cell_type": "code",
   "execution_count": 59,
   "metadata": {},
   "outputs": [],
   "source": [
    "music_generation_prompt=PromptTemplate(\n",
    "    input_variables = [\"number\",\"mood\",\"response_json\"],\n",
    "    template = TEMPLATE\n",
    ")\n"
   ]
  },
  {
   "cell_type": "code",
   "execution_count": 60,
   "metadata": {},
   "outputs": [],
   "source": [
    "music_chain=LLMChain(llm=llm, prompt=music_generation_prompt,output_key=\"music\",verbose=True)"
   ]
  },
  {
   "cell_type": "code",
   "execution_count": 61,
   "metadata": {},
   "outputs": [],
   "source": [
    "TEMPLATE2 =\"\"\"\n",
    "You are an expert in musical knowledge. Given the list of songs below and the specified mood,\\\n",
    "evaluate whether each song conforms to the {mood} mood.\n",
    "Provide a detailed analysis for each song, including whether it fits the mood and why.\n",
    "####Songs_List:\n",
    "{music}\n",
    "\n",
    "check from an expert in music:\n",
    "\"\"\""
   ]
  },
  {
   "cell_type": "code",
   "execution_count": 62,
   "metadata": {},
   "outputs": [],
   "source": [
    "music_evaluation_prompt = PromptTemplate(input_variables=[\"mood\",\"music\"],template = TEMPLATE2)"
   ]
  },
  {
   "cell_type": "code",
   "execution_count": 63,
   "metadata": {},
   "outputs": [],
   "source": [
    "review_chain = LLMChain(llm=llm, prompt=music_evaluation_prompt, output_key=\"review\",verbose = True)"
   ]
  },
  {
   "cell_type": "code",
   "execution_count": 64,
   "metadata": {},
   "outputs": [],
   "source": [
    "generate_evaluate_chain = SequentialChain(chains=[music_chain, review_chain],input_variables=[\"number\",\"mood\",\"response_json\"],\n",
    "                                          output_variables=[\"music\",\"review\"],verbose=True)"
   ]
  },
  {
   "cell_type": "code",
   "execution_count": 65,
   "metadata": {},
   "outputs": [
    {
     "data": {
      "text/plain": [
       "'{\"songs\": [{\"title\": \"Song Title 1\", \"movie\": \"Movie Name 1\", \"year\": 2000}, {\"title\": \"Song Title 2\", \"movie\": \"Movie Name 2\", \"year\": 2001}]}'"
      ]
     },
     "execution_count": 65,
     "metadata": {},
     "output_type": "execute_result"
    }
   ],
   "source": [
    "json.dumps(RESPONSE_JSON)"
   ]
  },
  {
   "cell_type": "code",
   "execution_count": 66,
   "metadata": {},
   "outputs": [],
   "source": [
    "NUMBER = 10\n",
    "MOOD = \"happy\"\n"
   ]
  },
  {
   "cell_type": "code",
   "execution_count": 67,
   "metadata": {},
   "outputs": [
    {
     "name": "stdout",
     "output_type": "stream",
     "text": [
      "\n",
      "\n",
      "\u001b[1m> Entering new SequentialChain chain...\u001b[0m\n",
      "\n",
      "\n",
      "\u001b[1m> Entering new LLMChain chain...\u001b[0m\n",
      "Prompt after formatting:\n",
      "\u001b[32;1m\u001b[1;3m\n",
      "You are an expert in musical knowledge. Given the above text, it is your job tocreate a list of 10 songs for happy mood from bollywood since the year 2000.\n",
      "Make sure that the songs are not repeated and check all the songs to be conforming the mood.\n",
      "Make sure to format your response like RESPONSE_JSON below and use it as a guide.\n",
      "Ensure to add 10 of songs\n",
      "###RESPONSE_JSON\n",
      "{\"songs\": [{\"title\": \"Song Title 1\", \"movie\": \"Movie Name 1\", \"year\": 2000}, {\"title\": \"Song Title 2\", \"movie\": \"Movie Name 2\", \"year\": 2001}]}\n",
      "\n",
      "\u001b[0m\n",
      "\n",
      "\u001b[1m> Finished chain.\u001b[0m\n",
      "\n",
      "\n",
      "\u001b[1m> Entering new LLMChain chain...\u001b[0m\n",
      "Prompt after formatting:\n",
      "\u001b[32;1m\u001b[1;3m\n",
      "You are an expert in musical knowledge. Given the list of songs below and the specified mood,evaluate whether each song conforms to the happy mood.\n",
      "Provide a detailed analysis for each song, including whether it fits the mood and why.\n",
      "####Songs_List:\n",
      "###RESPONSE_JSON\n",
      "{\"songs\": [\n",
      "{\"title\": \"Koi Mil Gaya\", \"movie\": \"Kuch Kuch Hota Hai\", \"year\": 1998},\n",
      "{\"title\": \"Kabhi Khushi Kabhie Gham\", \"movie\": \"Kabhi Khushi Kabhie Gham\", \"year\": 2001},\n",
      "{\"title\": \"Balle Balle\", \"movie\": \"Bride and Prejudice\", \"year\": 2004},\n",
      "{\"title\": \"London Thumakda\", \"movie\": \"Queen\", \"year\": 2014},\n",
      "{\"title\": \"Gallan Goodiyaan\", \"movie\": \"Dil Dhadakne Do\", \"year\": 2015},\n",
      "{\"title\": \"Nashe Si Chadh Gayi\", \"movie\": \"Befikre\", \"year\": 2016},\n",
      "{\"title\": \"Dil Dhadakne Do\", \"movie\": \"Zindagi Na Milegi Dobara\", \"year\": 2011},\n",
      "{\"title\": \"Ainvayi Ainvayi\", \"movie\": \"Band Baaja Baaraat\", \"year\": 2010},\n",
      "{\"title\": \"Badtameez Dil\", \"movie\": \"Yeh Jawaani Hai Deewani\", \"year\": 2013},\n",
      "{\"title\": \"Aankh Marey\", \"movie\": \"Simmba\", \"year\": 2018}\n",
      "]}\n",
      "\n",
      "check from an expert in music:\n",
      "\u001b[0m\n",
      "\n",
      "\u001b[1m> Finished chain.\u001b[0m\n",
      "\n",
      "\u001b[1m> Finished chain.\u001b[0m\n"
     ]
    }
   ],
   "source": [
    "###setup token usage\n",
    "with get_openai_callback() as cb:\n",
    "    response = generate_evaluate_chain(\n",
    "    {\n",
    "       \"number\":NUMBER,\n",
    "       \"mood\":MOOD,\n",
    "       \"response_json\":json.dumps(RESPONSE_JSON)\n",
    "    }\n",
    "    )"
   ]
  },
  {
   "cell_type": "code",
   "execution_count": 68,
   "metadata": {},
   "outputs": [
    {
     "name": "stdout",
     "output_type": "stream",
     "text": [
      "Total Tokens:1655\n",
      "Prompt Tokens:520\n",
      "Completion Tokens:1135\n",
      "Total Cost:0.0030499999999999998\n"
     ]
    }
   ],
   "source": [
    "print(f\"Total Tokens:{cb.total_tokens}\")\n",
    "print(f\"Prompt Tokens:{cb.prompt_tokens}\")\n",
    "print(f\"Completion Tokens:{cb.completion_tokens}\")\n",
    "print(f\"Total Cost:{cb.total_cost}\")"
   ]
  },
  {
   "cell_type": "code",
   "execution_count": 81,
   "metadata": {},
   "outputs": [
    {
     "data": {
      "text/plain": [
       "'###RESPONSE_JSON\\n{\"songs\": [\\n{\"title\": \"Koi Mil Gaya\", \"movie\": \"Kuch Kuch Hota Hai\", \"year\": 1998},\\n{\"title\": \"Kabhi Khushi Kabhie Gham\", \"movie\": \"Kabhi Khushi Kabhie Gham\", \"year\": 2001},\\n{\"title\": \"Balle Balle\", \"movie\": \"Bride and Prejudice\", \"year\": 2004},\\n{\"title\": \"London Thumakda\", \"movie\": \"Queen\", \"year\": 2014},\\n{\"title\": \"Gallan Goodiyaan\", \"movie\": \"Dil Dhadakne Do\", \"year\": 2015},\\n{\"title\": \"Nashe Si Chadh Gayi\", \"movie\": \"Befikre\", \"year\": 2016},\\n{\"title\": \"Dil Dhadakne Do\", \"movie\": \"Zindagi Na Milegi Dobara\", \"year\": 2011},\\n{\"title\": \"Ainvayi Ainvayi\", \"movie\": \"Band Baaja Baaraat\", \"year\": 2010},\\n{\"title\": \"Badtameez Dil\", \"movie\": \"Yeh Jawaani Hai Deewani\", \"year\": 2013},\\n{\"title\": \"Aankh Marey\", \"movie\": \"Simmba\", \"year\": 2018}\\n]}'"
      ]
     },
     "execution_count": 81,
     "metadata": {},
     "output_type": "execute_result"
    }
   ],
   "source": [
    "music=response.get('music')"
   ]
  },
  {
   "cell_type": "code",
   "execution_count": 83,
   "metadata": {},
   "outputs": [],
   "source": [
    "json_start_index = music.find('{')"
   ]
  },
  {
   "cell_type": "code",
   "execution_count": 84,
   "metadata": {},
   "outputs": [
    {
     "data": {
      "text/plain": [
       "17"
      ]
     },
     "execution_count": 84,
     "metadata": {},
     "output_type": "execute_result"
    }
   ],
   "source": [
    "json_start_index"
   ]
  },
  {
   "cell_type": "code",
   "execution_count": 85,
   "metadata": {},
   "outputs": [],
   "source": [
    "cleaned_json_str = music[json_start_index:]"
   ]
  },
  {
   "cell_type": "code",
   "execution_count": 86,
   "metadata": {},
   "outputs": [
    {
     "data": {
      "text/plain": [
       "'{\"songs\": [\\n{\"title\": \"Koi Mil Gaya\", \"movie\": \"Kuch Kuch Hota Hai\", \"year\": 1998},\\n{\"title\": \"Kabhi Khushi Kabhie Gham\", \"movie\": \"Kabhi Khushi Kabhie Gham\", \"year\": 2001},\\n{\"title\": \"Balle Balle\", \"movie\": \"Bride and Prejudice\", \"year\": 2004},\\n{\"title\": \"London Thumakda\", \"movie\": \"Queen\", \"year\": 2014},\\n{\"title\": \"Gallan Goodiyaan\", \"movie\": \"Dil Dhadakne Do\", \"year\": 2015},\\n{\"title\": \"Nashe Si Chadh Gayi\", \"movie\": \"Befikre\", \"year\": 2016},\\n{\"title\": \"Dil Dhadakne Do\", \"movie\": \"Zindagi Na Milegi Dobara\", \"year\": 2011},\\n{\"title\": \"Ainvayi Ainvayi\", \"movie\": \"Band Baaja Baaraat\", \"year\": 2010},\\n{\"title\": \"Badtameez Dil\", \"movie\": \"Yeh Jawaani Hai Deewani\", \"year\": 2013},\\n{\"title\": \"Aankh Marey\", \"movie\": \"Simmba\", \"year\": 2018}\\n]}'"
      ]
     },
     "execution_count": 86,
     "metadata": {},
     "output_type": "execute_result"
    }
   ],
   "source": [
    "cleaned_json_str"
   ]
  },
  {
   "cell_type": "code",
   "execution_count": 88,
   "metadata": {},
   "outputs": [],
   "source": [
    "parsed_json = json.loads(cleaned_json_str)"
   ]
  },
  {
   "cell_type": "code",
   "execution_count": 89,
   "metadata": {},
   "outputs": [
    {
     "data": {
      "text/plain": [
       "{'songs': [{'title': 'Koi Mil Gaya',\n",
       "   'movie': 'Kuch Kuch Hota Hai',\n",
       "   'year': 1998},\n",
       "  {'title': 'Kabhi Khushi Kabhie Gham',\n",
       "   'movie': 'Kabhi Khushi Kabhie Gham',\n",
       "   'year': 2001},\n",
       "  {'title': 'Balle Balle', 'movie': 'Bride and Prejudice', 'year': 2004},\n",
       "  {'title': 'London Thumakda', 'movie': 'Queen', 'year': 2014},\n",
       "  {'title': 'Gallan Goodiyaan', 'movie': 'Dil Dhadakne Do', 'year': 2015},\n",
       "  {'title': 'Nashe Si Chadh Gayi', 'movie': 'Befikre', 'year': 2016},\n",
       "  {'title': 'Dil Dhadakne Do',\n",
       "   'movie': 'Zindagi Na Milegi Dobara',\n",
       "   'year': 2011},\n",
       "  {'title': 'Ainvayi Ainvayi', 'movie': 'Band Baaja Baaraat', 'year': 2010},\n",
       "  {'title': 'Badtameez Dil', 'movie': 'Yeh Jawaani Hai Deewani', 'year': 2013},\n",
       "  {'title': 'Aankh Marey', 'movie': 'Simmba', 'year': 2018}]}"
      ]
     },
     "execution_count": 89,
     "metadata": {},
     "output_type": "execute_result"
    }
   ],
   "source": [
    "parsed_json"
   ]
  },
  {
   "cell_type": "code",
   "execution_count": 94,
   "metadata": {},
   "outputs": [
    {
     "name": "stdout",
     "output_type": "stream",
     "text": [
      "Music Table Data:\n",
      "Title: Koi Mil Gaya, Movie: Kuch Kuch Hota Hai, Year: 1998 | Title: Kabhi Khushi Kabhie Gham, Movie: Kabhi Khushi Kabhie Gham, Year: 2001 | Title: Balle Balle, Movie: Bride and Prejudice, Year: 2004 | Title: London Thumakda, Movie: Queen, Year: 2014 | Title: Gallan Goodiyaan, Movie: Dil Dhadakne Do, Year: 2015 | Title: Nashe Si Chadh Gayi, Movie: Befikre, Year: 2016 | Title: Dil Dhadakne Do, Movie: Zindagi Na Milegi Dobara, Year: 2011 | Title: Ainvayi Ainvayi, Movie: Band Baaja Baaraat, Year: 2010 | Title: Badtameez Dil, Movie: Yeh Jawaani Hai Deewani, Year: 2013 | Title: Aankh Marey, Movie: Simmba, Year: 2018\n"
     ]
    }
   ],
   "source": [
    "music_table_data= []\n",
    "for key in parsed_json[\"songs\"]:\n",
    "    title = key[\"title\"]\n",
    "    movie = key[\"movie\"]\n",
    "    year = key[\"year\"]\n",
    "    music_table_data.append({\"Title\": title, \"Movie\": movie, \"Year\": year})\n",
    "\n",
    "formatted_music_list = \" | \".join([f\"Title: {song['Title']}, Movie: {song['Movie']}, Year: {song['Year']}\" for song in music_table_data])\n",
    "print(\"Music Table Data:\")\n",
    "print(formatted_music_list)"
   ]
  },
  {
   "cell_type": "code",
   "execution_count": 96,
   "metadata": {},
   "outputs": [],
   "source": [
    "music = pd.DataFrame(music_table_data)"
   ]
  },
  {
   "cell_type": "code",
   "execution_count": 97,
   "metadata": {},
   "outputs": [],
   "source": [
    "music.to_csv(\"music_generation.csv\",index=False)"
   ]
  },
  {
   "cell_type": "code",
   "execution_count": null,
   "metadata": {},
   "outputs": [],
   "source": []
  }
 ],
 "metadata": {
  "kernelspec": {
   "display_name": "Python 3",
   "language": "python",
   "name": "python3"
  },
  "language_info": {
   "codemirror_mode": {
    "name": "ipython",
    "version": 3
   },
   "file_extension": ".py",
   "mimetype": "text/x-python",
   "name": "python",
   "nbconvert_exporter": "python",
   "pygments_lexer": "ipython3",
   "version": "3.12.3"
  },
  "orig_nbformat": 4,
  "vscode": {
   "interpreter": {
    "hash": "b0fa6594d8f4cbf19f97940f81e996739fb7646882a419484c72d19e05852a7e"
   }
  }
 },
 "nbformat": 4,
 "nbformat_minor": 2
}
